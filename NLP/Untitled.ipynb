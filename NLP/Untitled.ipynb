{
 "cells": [
  {
   "cell_type": "markdown",
   "id": "bdb094ac",
   "metadata": {},
   "source": [
    "# NLP Pipeline\n",
    "\n",
    "Steps:\n",
    "1. Text Processing\n",
    "    - Cleaning: remove irrelevant items like HTML tags\n",
    "    - Normalization: convert all to lowercase and remove punctuation\n",
    "    - Tokenization: split text to words/tokens\n",
    "    - Stop Word Removal: removing common words\n",
    "    - Part of Speech Tagging\n",
    "    - Named Entity Recognition\n",
    "    - Stemming and Lemmatization: convert words to their dictionary form\n",
    "2. Feature Extraction\n",
    "    - Bag of Words\n",
    "    - TF-IDF\n",
    "    - Word Embeddings\n",
    "3. Modeling"
   ]
  }
 ],
 "metadata": {
  "kernelspec": {
   "display_name": "Python 3 (ipykernel)",
   "language": "python",
   "name": "python3"
  },
  "language_info": {
   "codemirror_mode": {
    "name": "ipython",
    "version": 3
   },
   "file_extension": ".py",
   "mimetype": "text/x-python",
   "name": "python",
   "nbconvert_exporter": "python",
   "pygments_lexer": "ipython3",
   "version": "3.9.7"
  }
 },
 "nbformat": 4,
 "nbformat_minor": 5
}
