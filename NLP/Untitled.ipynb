{
 "cells": [
  {
   "cell_type": "markdown",
   "id": "5d15359a",
   "metadata": {},
   "source": [
    "# NLP Pipeline\n",
    "\n",
    "Steps:\n",
    "1. Text Processing\n",
    "    - Cleaning: remove irrelevant items like HTML tags\n",
    "    - Normalization: convert all to lowercase and remove punctuation\n",
    "    - Tokenization: split text to words/tokens\n",
    "    - Stop Word Removal: removing common words\n",
    "    - Part of Speech Tagging\n",
    "    - Named Entity Recognition\n",
    "    - Stemming and Lemmatization: convert words to their dictionary form\n",
    "2. Feature Extraction\n",
    "    - Bag of Words\n",
    "    - TF-IDF\n",
    "    - Word Embeddings\n",
    "3. Modeling"
   ]
  },
  {
   "cell_type": "markdown",
   "id": "77b32dba",
   "metadata": {},
   "source": [
    "# Notes\n",
    "- NLTK: Natural language toolkit is a python library\n",
    "\n",
    "- Syntactic analysis is a technique of analyzing sentences to extract meaning from it. Using syntactic analysis, a machine can analyze and understand the order of words arranged in a sentence. \n",
    "\n",
    "- Semantic analysis helps make a machine understand the meaning of a text. It uses various algorithms for the interpretation of words in sentences. It also helps understand the structure of a sentence."
   ]
  },
  {
   "cell_type": "code",
   "execution_count": null,
   "id": "2ba80201",
   "metadata": {},
   "outputs": [],
   "source": []
  }
 ],
 "metadata": {
  "kernelspec": {
   "display_name": "Python 3 (ipykernel)",
   "language": "python",
   "name": "python3"
  },
  "language_info": {
   "codemirror_mode": {
    "name": "ipython",
    "version": 3
   },
   "file_extension": ".py",
   "mimetype": "text/x-python",
   "name": "python",
   "nbconvert_exporter": "python",
   "pygments_lexer": "ipython3",
   "version": "3.9.7"
  }
 },
 "nbformat": 4,
 "nbformat_minor": 5
}
